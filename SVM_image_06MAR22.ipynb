{
 "cells": [
  {
   "cell_type": "code",
   "execution_count": null,
   "id": "47476720",
   "metadata": {},
   "outputs": [],
   "source": [
    "######################### SVM #################################3"
   ]
  },
  {
   "cell_type": "code",
   "execution_count": 14,
   "id": "2df4d01e",
   "metadata": {},
   "outputs": [],
   "source": [
    "import os\n",
    "import numpy as np\n",
    "import cv2\n",
    "import matplotlib.pyplot as plt\n",
    "import pickle\n",
    "import random\n",
    "from  sklearn.model_selection import train_test_split\n",
    "from sklearn import datasets, metrics, model_selection, svm\n",
    "from sklearn.svm import SVC\n",
    "import time\n",
    "\n"
   ]
  },
  {
   "cell_type": "code",
   "execution_count": 15,
   "id": "0e35b80d",
   "metadata": {},
   "outputs": [
    {
     "name": "stdout",
     "output_type": "stream",
     "text": [
      "3787\n"
     ]
    }
   ],
   "source": [
    "\n",
    "\n",
    "dir=\"/media/german/51f3aae9-4042-4d37-b815-440a1b6b695d/data7/\"\n",
    "\n",
    "data=[]\n",
    "\n",
    "categories =['down', 'up']\n",
    "for category in categories:\n",
    "    path=os.path.join(dir,category)\n",
    "    label = categories.index(category)\n",
    "    \n",
    "    for img in os.listdir(path):\n",
    "        imgpath=os.path.join(path,img)\n",
    "        pet_img=cv2.imread(imgpath,0)\n",
    "        try:\n",
    "            pet_img=cv2.resize(pet_img,(50,50))\n",
    "            image=np.array(pet_img).flatten()\n",
    "        \n",
    "            data.append([image,label])\n",
    "        except Exception as e:\n",
    "            pass\n",
    "        \n",
    "print(len(data))\n",
    "        \n"
   ]
  },
  {
   "cell_type": "code",
   "execution_count": 3,
   "id": "adffacb3",
   "metadata": {},
   "outputs": [],
   "source": [
    "pick_in=open('/media/german/51f3aae9-4042-4d37-b815-440a1b6b695d/data7/data.pickle','wb')\n",
    "pickle.dump(data,pick_in)\n",
    "pick_in.close()"
   ]
  },
  {
   "cell_type": "code",
   "execution_count": 4,
   "id": "22333029",
   "metadata": {},
   "outputs": [],
   "source": [
    "pick_in=open('/media/german/51f3aae9-4042-4d37-b815-440a1b6b695d/data7/data.pickle','rb')\n",
    "data=pickle.load(pick_in)\n",
    "pick_in.close()"
   ]
  },
  {
   "cell_type": "code",
   "execution_count": 5,
   "id": "3a1a991c",
   "metadata": {},
   "outputs": [],
   "source": [
    "random.shuffle(data)\n",
    "\n",
    "features=[]\n",
    "labels=[]\n",
    "\n",
    "for feature, label in data:\n",
    "    features.append(feature)\n",
    "    labels.append(label)"
   ]
  },
  {
   "cell_type": "code",
   "execution_count": 38,
   "id": "ce9e7a30",
   "metadata": {},
   "outputs": [
    {
     "name": "stdout",
     "output_type": "stream",
     "text": [
      "Start\n",
      "Elapsed time  10.138581275939941\n"
     ]
    }
   ],
   "source": [
    "xtrain,xtest,ytrain,ytest = train_test_split(features,labels,test_size=0.25)\n",
    "\n",
    "model =SVC(C=1,gamma='auto',kernel='poly',degree=8)\n",
    "\n",
    "\n",
    "start = time.time()\n",
    "print(\"Start\")\n",
    "model.fit(xtrain,ytrain)\n",
    "pick=open('/media/german/51f3aae9-4042-4d37-b815-440a1b6b695d/data7/modelsvc06MAR22.save','wb')\n",
    "pickle.dump(model,pick)\n",
    "pick.close()\n",
    "end = time.time()\n",
    "print(\"Elapsed time \", end - start)"
   ]
  },
  {
   "cell_type": "code",
   "execution_count": 39,
   "id": "eb2c53f7",
   "metadata": {},
   "outputs": [
    {
     "name": "stdout",
     "output_type": "stream",
     "text": [
      "Accuraccy:  0.9081309398099261\n",
      "Prediction is:  down\n"
     ]
    },
    {
     "data": {
      "image/png": "[encoded data removed]",
      "text/plain": [
       "<Figure size 432x288 with 1 Axes>"
      ]
     },
     "metadata": {
      "needs_background": "light"
     },
     "output_type": "display_data"
    }
   ],
   "source": [
    "prediction=model.predict(xtest)\n",
    "accuracy = model.score(xtest,ytest)\n",
    "print(\"Accuraccy: \",accuracy)\n",
    "print('Prediction is: ',categories[prediction[0]])\n",
    "\n",
    "mypet=xtest[0].reshape(50,50)\n",
    "plt.imshow(mypet,cmap='gray')\n",
    "plt.show()"
   ]
  },
  {
   "cell_type": "code",
   "execution_count": 40,
   "id": "ae4e9ec0",
   "metadata": {},
   "outputs": [
    {
     "name": "stderr",
     "output_type": "stream",
     "text": [
      "/home/german/Escritorio/ambiente/cnn/lib/python3.8/site-packages/sklearn/utils/deprecation.py:87: FutureWarning: Function plot_roc_curve is deprecated; Function :func:`plot_roc_curve` is deprecated in 1.0 and will be removed in 1.2. Use one of the class methods: :meth:`sklearn.metric.RocCurveDisplay.from_predictions` or :meth:`sklearn.metric.RocCurveDisplay.from_estimator`.\n",
      "  warnings.warn(msg, category=FutureWarning)\n"
     ]
    },
    {
     "data": {
      "text/plain": [
       "<sklearn.metrics._plot.roc_curve.RocCurveDisplay at 0x7f46c5177d30>"
      ]
     },
     "execution_count": 40,
     "metadata": {},
     "output_type": "execute_result"
    },
    {
     "data": {
      "image/png": "[encoded data removed]",
      "text/plain": [
       "<Figure size 432x288 with 1 Axes>"
      ]
     },
     "metadata": {
      "needs_background": "light"
     },
     "output_type": "display_data"
    }
   ],
   "source": [
    "metrics.plot_roc_curve(model, xtest, ytest) "
   ]
  },
  {
   "cell_type": "code",
   "execution_count": null,
   "id": "b9a2a4ef",
   "metadata": {},
   "outputs": [],
   "source": []
  }
 ],
 "metadata": {
  "kernelspec": {
   "display_name": "Python 3 (ipykernel)",
   "language": "python",
   "name": "python3"
  },
  "language_info": {
   "codemirror_mode": {
    "name": "ipython",
    "version": 3
   },
   "file_extension": ".py",
   "mimetype": "text/x-python",
   "name": "python",
   "nbconvert_exporter": "python",
   "pygments_lexer": "ipython3",
   "version": "3.8.10"
  }
 },
 "nbformat": 4,
 "nbformat_minor": 5
}
